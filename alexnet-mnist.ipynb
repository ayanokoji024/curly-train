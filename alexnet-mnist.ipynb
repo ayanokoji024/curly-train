{
 "metadata": {
  "kernelspec": {
   "language": "python",
   "display_name": "Python 3",
   "name": "python3"
  },
  "language_info": {
   "name": "python",
   "version": "3.10.12",
   "mimetype": "text/x-python",
   "codemirror_mode": {
    "name": "ipython",
    "version": 3
   },
   "pygments_lexer": "ipython3",
   "nbconvert_exporter": "python",
   "file_extension": ".py"
  }
 },
 "nbformat_minor": 4,
 "nbformat": 4,
 "cells": [
  {
   "cell_type": "code",
   "source": [
    "import numpy as np # linear algebra\n",
    "import pandas as pd # data processing, CSV file I/O (e.g. pd.read_csv)\n",
    "import argparse\n",
    "\n",
    "# Import necessary components to build LeNet\n",
    "from keras.models import Sequential\n",
    "from keras.layers import Dense, Dropout, Activation, Flatten\n",
    "from keras.layers import Conv2D, MaxPooling2D, ZeroPadding2D\n",
    "from keras.layers import BatchNormalization\n",
    "from keras.regularizers import l2\n",
    "\n",
    "import tensorflow as tf\n",
    "from tensorflow import keras\n",
    "import matplotlib.pyplot as plt\n",
    "%matplotlib inline\n",
    "import numpy as np\n",
    "import skimage.transform"
   ],
   "metadata": {
    "_uuid": "8f2839f25d086af736a60e9eeb907d3b93b6e0e5",
    "_cell_guid": "b1076dfc-b9ad-4769-8c92-a6c4dae69d19",
    "execution": {
     "iopub.status.busy": "2023-09-24T09:41:29.338055Z",
     "iopub.execute_input": "2023-09-24T09:41:29.338533Z",
     "iopub.status.idle": "2023-09-24T09:41:29.349000Z",
     "shell.execute_reply.started": "2023-09-24T09:41:29.338502Z",
     "shell.execute_reply": "2023-09-24T09:41:29.347874Z"
    },
    "trusted": true
   },
   "execution_count": 2,
   "outputs": []
  },
  {
   "cell_type": "code",
   "source": [
    "def alexnet_model(img_shape=(224, 224, 3), n_classes=10, l2_reg=0.,\n",
    "\tweights=None):\n",
    "\n",
    "\t# Initialize model\n",
    "\talexnet = Sequential()\n",
    "\n",
    "\t# Layer 1\n",
    "\talexnet.add(Conv2D(30, (11, 11), input_shape=img_shape,\n",
    "\t\tpadding='same', kernel_regularizer=l2(l2_reg)))\n",
    "\talexnet.add(BatchNormalization())\n",
    "\talexnet.add(Activation('relu'))\n",
    "\talexnet.add(MaxPooling2D(pool_size=(2, 2)))\n",
    "\n",
    "\t# Layer 2\n",
    "\talexnet.add(Conv2D(30, (5, 5), padding='same'))\n",
    "\talexnet.add(BatchNormalization())\n",
    "\talexnet.add(Activation('relu'))\n",
    "\talexnet.add(MaxPooling2D(pool_size=(2, 2)))\n",
    "\n",
    "\t# Layer 3\n",
    "\talexnet.add(ZeroPadding2D((1, 1)))\n",
    "\talexnet.add(Conv2D(30, (3, 3), padding='same'))\n",
    "\talexnet.add(BatchNormalization())\n",
    "\talexnet.add(Activation('relu'))\n",
    "\talexnet.add(MaxPooling2D(pool_size=(2, 2)))\n",
    "\n",
    "\t# Layer 4\n",
    "\talexnet.add(ZeroPadding2D((1, 1)))\n",
    "\talexnet.add(Conv2D(30, (3, 3), padding='same'))\n",
    "\talexnet.add(BatchNormalization())\n",
    "\talexnet.add(Activation('relu'))\n",
    "\n",
    "\t# Layer 5\n",
    "\talexnet.add(ZeroPadding2D((1, 1)))\n",
    "\talexnet.add(Conv2D(30, (3, 3), padding='same'))\n",
    "\talexnet.add(BatchNormalization())\n",
    "\talexnet.add(Activation('relu'))\n",
    "\talexnet.add(MaxPooling2D(pool_size=(2, 2)))\n",
    "\n",
    "\t# Layer 6\n",
    "\talexnet.add(Flatten())\n",
    "\talexnet.add(Dense(30))\n",
    "\talexnet.add(BatchNormalization())\n",
    "\talexnet.add(Activation('relu'))\n",
    "\talexnet.add(Dropout(0.5))\n",
    "\n",
    "\t# Layer 7\n",
    "\talexnet.add(Dense(30))\n",
    "\talexnet.add(BatchNormalization())\n",
    "\talexnet.add(Activation('relu'))\n",
    "\talexnet.add(Dropout(0.5))\n",
    "\n",
    "\t# Layer 8\n",
    "\talexnet.add(Dense(n_classes))\n",
    "\talexnet.add(BatchNormalization())\n",
    "\talexnet.add(Activation('softmax'))\n",
    "\n",
    "\tif weights is not None:\n",
    "\t\talexnet.load_weights(weights)\n",
    "\n",
    "\treturn alexnet"
   ],
   "metadata": {
    "execution": {
     "iopub.status.busy": "2023-09-24T09:41:29.563371Z",
     "iopub.execute_input": "2023-09-24T09:41:29.563864Z",
     "iopub.status.idle": "2023-09-24T09:41:29.586494Z",
     "shell.execute_reply.started": "2023-09-24T09:41:29.563830Z",
     "shell.execute_reply": "2023-09-24T09:41:29.585155Z"
    },
    "trusted": true
   },
   "execution_count": 3,
   "outputs": []
  },
  {
   "cell_type": "code",
   "source": [
    "def parse_args():\n",
    "\t\"\"\"\n",
    "\tParse command line arguments.\n",
    "\tParameters:\n",
    "\t\tNone\n",
    "\tReturns:\n",
    "\t\tparser arguments\n",
    "\t\"\"\"\n",
    "\tparser = argparse.ArgumentParser(description='AlexNet model')\n",
    "\toptional = parser._action_groups.pop()\n",
    "\trequired = parser.add_argument_group('required arguments')\n",
    "\toptional.add_argument('--print_model',\n",
    "\t\tdest='print_model',\n",
    "\t\thelp='Print AlexNet model',\n",
    "\t\taction='store_true')\n",
    "\tparser._action_groups.append(optional)\n",
    "\treturn parser.parse_args()"
   ],
   "metadata": {
    "execution": {
     "iopub.status.busy": "2023-09-24T09:41:29.589322Z",
     "iopub.execute_input": "2023-09-24T09:41:29.590468Z",
     "iopub.status.idle": "2023-09-24T09:41:29.607056Z",
     "shell.execute_reply.started": "2023-09-24T09:41:29.590411Z",
     "shell.execute_reply": "2023-09-24T09:41:29.605965Z"
    },
    "trusted": true
   },
   "execution_count": 4,
   "outputs": []
  },
  {
   "cell_type": "code",
   "source": [
    "def load_preprocess_training_batch(X_train):\n",
    "    \n",
    "    new = []\n",
    "    \n",
    "    for item in X_train:\n",
    "        tmpFeature = skimage.transform.resize(item, (224, 224), mode='constant')\n",
    "        new.append(tmpFeature)\n",
    "\n",
    "    return new"
   ],
   "metadata": {
    "execution": {
     "iopub.status.busy": "2023-09-24T09:41:29.609327Z",
     "iopub.execute_input": "2023-09-24T09:41:29.609906Z",
     "iopub.status.idle": "2023-09-24T09:41:29.624781Z",
     "shell.execute_reply.started": "2023-09-24T09:41:29.609864Z",
     "shell.execute_reply": "2023-09-24T09:41:29.623611Z"
    },
    "trusted": true
   },
   "execution_count": 5,
   "outputs": []
  },
  {
   "cell_type": "code",
   "source": [
    "(X_train, y_train) , (X_test, y_test) = keras.datasets.mnist.load_data()\n",
    "\n",
    "X_train = X_train[0:2000]\n",
    "y_train = y_train[0:2000]\n",
    "X_test = X_test[0:2000]\n",
    "y_test = y_test[0:2000]\n",
    "X_train_resized = load_preprocess_training_batch(X_train)\n",
    "X_test_resized = load_preprocess_training_batch(X_test)\n",
    "X_train_resized = np.array(X_train_resized)\n",
    "X_test_resized = np.array(X_test_resized)\n",
    "X_train_resized = X_train_resized / 255\n",
    "X_test_resized = X_test_resized / 255"
   ],
   "metadata": {
    "execution": {
     "iopub.status.busy": "2023-09-24T09:41:29.627951Z",
     "iopub.execute_input": "2023-09-24T09:41:29.629038Z",
     "iopub.status.idle": "2023-09-24T09:41:41.964155Z",
     "shell.execute_reply.started": "2023-09-24T09:41:29.628992Z",
     "shell.execute_reply": "2023-09-24T09:41:41.962789Z"
    },
    "trusted": true
   },
   "execution_count": 6,
   "outputs": []
  },
  {
   "cell_type": "code",
   "source": [
    "import cv2\n",
    "\n",
    "X_train_new = list()\n",
    "\n",
    "for i in range(len(X_train_resized)):\n",
    "  g  = X_train_resized[i]\n",
    "  X_train_new.append(cv2.merge([g,g,g]))\n",
    "\n",
    "X_train_new = np.asarray(X_train_new,dtype=np.float32)\n",
    "\n",
    "X_test_new = list()\n",
    "\n",
    "for i in range(len(X_test_resized)):\n",
    "  g  = X_test_resized[i]\n",
    "  X_test_new.append(cv2.merge([g,g,g]))\n",
    "\n",
    "X_test_new = np.asarray(X_test_new,dtype=np.float32)"
   ],
   "metadata": {
    "execution": {
     "iopub.status.busy": "2023-09-24T09:41:41.965692Z",
     "iopub.execute_input": "2023-09-24T09:41:41.966355Z",
     "iopub.status.idle": "2023-09-24T09:41:47.611397Z",
     "shell.execute_reply.started": "2023-09-24T09:41:41.966321Z",
     "shell.execute_reply": "2023-09-24T09:41:47.610323Z"
    },
    "trusted": true
   },
   "execution_count": 7,
   "outputs": []
  },
  {
   "cell_type": "code",
   "source": [
    "model = alexnet_model()"
   ],
   "metadata": {
    "execution": {
     "iopub.status.busy": "2023-09-24T09:41:47.612907Z",
     "iopub.execute_input": "2023-09-24T09:41:47.613377Z",
     "iopub.status.idle": "2023-09-24T09:41:47.930339Z",
     "shell.execute_reply.started": "2023-09-24T09:41:47.613324Z",
     "shell.execute_reply": "2023-09-24T09:41:47.929354Z"
    },
    "trusted": true
   },
   "execution_count": 8,
   "outputs": []
  },
  {
   "cell_type": "code",
   "source": [
    "model.compile(optimizer='SGD',\n",
    "              loss='sparse_categorical_crossentropy',\n",
    "              metrics=['accuracy'])\n",
    "\n",
    "history = model.fit(X_train_resized, y_train, epochs=5)"
   ],
   "metadata": {
    "execution": {
     "iopub.status.busy": "2023-09-24T09:41:47.931751Z",
     "iopub.execute_input": "2023-09-24T09:41:47.932349Z",
     "iopub.status.idle": "2023-09-24T09:41:48.591555Z",
     "shell.execute_reply.started": "2023-09-24T09:41:47.932316Z",
     "shell.execute_reply": "2023-09-24T09:41:48.590052Z"
    },
    "trusted": true
   },
   "execution_count": 9,
   "outputs": [
    {
     "name": "stdout",
     "output_type": "stream",
     "text": [
      "Epoch 1/5\n"
     ]
    },
    {
     "ename": "ValueError",
     "evalue": "in user code:\n\n    File \"C:\\Users\\ANOMITRO\\anaconda3\\lib\\site-packages\\keras\\src\\engine\\training.py\", line 1338, in train_function  *\n        return step_function(self, iterator)\n    File \"C:\\Users\\ANOMITRO\\anaconda3\\lib\\site-packages\\keras\\src\\engine\\training.py\", line 1322, in step_function  **\n        outputs = model.distribute_strategy.run(run_step, args=(data,))\n    File \"C:\\Users\\ANOMITRO\\anaconda3\\lib\\site-packages\\keras\\src\\engine\\training.py\", line 1303, in run_step  **\n        outputs = model.train_step(data)\n    File \"C:\\Users\\ANOMITRO\\anaconda3\\lib\\site-packages\\keras\\src\\engine\\training.py\", line 1080, in train_step\n        y_pred = self(x, training=True)\n    File \"C:\\Users\\ANOMITRO\\anaconda3\\lib\\site-packages\\keras\\src\\utils\\traceback_utils.py\", line 70, in error_handler\n        raise e.with_traceback(filtered_tb) from None\n    File \"C:\\Users\\ANOMITRO\\anaconda3\\lib\\site-packages\\keras\\src\\engine\\input_spec.py\", line 253, in assert_input_compatibility\n        raise ValueError(\n\n    ValueError: Exception encountered when calling layer 'sequential' (type Sequential).\n    \n    Input 0 of layer \"conv2d\" is incompatible with the layer: expected min_ndim=4, found ndim=3. Full shape received: (None, 224, 224)\n    \n    Call arguments received by layer 'sequential' (type Sequential):\n      • inputs=tf.Tensor(shape=(None, 224, 224), dtype=float32)\n      • training=True\n      • mask=None\n",
     "output_type": "error",
     "traceback": [
      "\u001B[1;31m---------------------------------------------------------------------------\u001B[0m",
      "\u001B[1;31mValueError\u001B[0m                                Traceback (most recent call last)",
      "\u001B[1;32m~\\AppData\\Local\\Temp\\ipykernel_8044\\2642646990.py\u001B[0m in \u001B[0;36m<module>\u001B[1;34m\u001B[0m\n\u001B[0;32m      3\u001B[0m               metrics=['accuracy'])\n\u001B[0;32m      4\u001B[0m \u001B[1;33m\u001B[0m\u001B[0m\n\u001B[1;32m----> 5\u001B[1;33m \u001B[0mhistory\u001B[0m \u001B[1;33m=\u001B[0m \u001B[0mmodel\u001B[0m\u001B[1;33m.\u001B[0m\u001B[0mfit\u001B[0m\u001B[1;33m(\u001B[0m\u001B[0mX_train_resized\u001B[0m\u001B[1;33m,\u001B[0m \u001B[0my_train\u001B[0m\u001B[1;33m,\u001B[0m \u001B[0mepochs\u001B[0m\u001B[1;33m=\u001B[0m\u001B[1;36m5\u001B[0m\u001B[1;33m)\u001B[0m\u001B[1;33m\u001B[0m\u001B[1;33m\u001B[0m\u001B[0m\n\u001B[0m",
      "\u001B[1;32m~\\anaconda3\\lib\\site-packages\\keras\\src\\utils\\traceback_utils.py\u001B[0m in \u001B[0;36merror_handler\u001B[1;34m(*args, **kwargs)\u001B[0m\n\u001B[0;32m     68\u001B[0m             \u001B[1;31m# To get the full stack trace, call:\u001B[0m\u001B[1;33m\u001B[0m\u001B[1;33m\u001B[0m\u001B[0m\n\u001B[0;32m     69\u001B[0m             \u001B[1;31m# `tf.debugging.disable_traceback_filtering()`\u001B[0m\u001B[1;33m\u001B[0m\u001B[1;33m\u001B[0m\u001B[0m\n\u001B[1;32m---> 70\u001B[1;33m             \u001B[1;32mraise\u001B[0m \u001B[0me\u001B[0m\u001B[1;33m.\u001B[0m\u001B[0mwith_traceback\u001B[0m\u001B[1;33m(\u001B[0m\u001B[0mfiltered_tb\u001B[0m\u001B[1;33m)\u001B[0m \u001B[1;32mfrom\u001B[0m \u001B[1;32mNone\u001B[0m\u001B[1;33m\u001B[0m\u001B[1;33m\u001B[0m\u001B[0m\n\u001B[0m\u001B[0;32m     71\u001B[0m         \u001B[1;32mfinally\u001B[0m\u001B[1;33m:\u001B[0m\u001B[1;33m\u001B[0m\u001B[1;33m\u001B[0m\u001B[0m\n\u001B[0;32m     72\u001B[0m             \u001B[1;32mdel\u001B[0m \u001B[0mfiltered_tb\u001B[0m\u001B[1;33m\u001B[0m\u001B[1;33m\u001B[0m\u001B[0m\n",
      "\u001B[1;32m~\\anaconda3\\lib\\site-packages\\keras\\src\\engine\\training.py\u001B[0m in \u001B[0;36mtf__train_function\u001B[1;34m(iterator)\u001B[0m\n\u001B[0;32m     13\u001B[0m                 \u001B[1;32mtry\u001B[0m\u001B[1;33m:\u001B[0m\u001B[1;33m\u001B[0m\u001B[1;33m\u001B[0m\u001B[0m\n\u001B[0;32m     14\u001B[0m                     \u001B[0mdo_return\u001B[0m \u001B[1;33m=\u001B[0m \u001B[1;32mTrue\u001B[0m\u001B[1;33m\u001B[0m\u001B[1;33m\u001B[0m\u001B[0m\n\u001B[1;32m---> 15\u001B[1;33m                     \u001B[0mretval_\u001B[0m \u001B[1;33m=\u001B[0m \u001B[0mag__\u001B[0m\u001B[1;33m.\u001B[0m\u001B[0mconverted_call\u001B[0m\u001B[1;33m(\u001B[0m\u001B[0mag__\u001B[0m\u001B[1;33m.\u001B[0m\u001B[0mld\u001B[0m\u001B[1;33m(\u001B[0m\u001B[0mstep_function\u001B[0m\u001B[1;33m)\u001B[0m\u001B[1;33m,\u001B[0m \u001B[1;33m(\u001B[0m\u001B[0mag__\u001B[0m\u001B[1;33m.\u001B[0m\u001B[0mld\u001B[0m\u001B[1;33m(\u001B[0m\u001B[0mself\u001B[0m\u001B[1;33m)\u001B[0m\u001B[1;33m,\u001B[0m \u001B[0mag__\u001B[0m\u001B[1;33m.\u001B[0m\u001B[0mld\u001B[0m\u001B[1;33m(\u001B[0m\u001B[0miterator\u001B[0m\u001B[1;33m)\u001B[0m\u001B[1;33m)\u001B[0m\u001B[1;33m,\u001B[0m \u001B[1;32mNone\u001B[0m\u001B[1;33m,\u001B[0m \u001B[0mfscope\u001B[0m\u001B[1;33m)\u001B[0m\u001B[1;33m\u001B[0m\u001B[1;33m\u001B[0m\u001B[0m\n\u001B[0m\u001B[0;32m     16\u001B[0m                 \u001B[1;32mexcept\u001B[0m\u001B[1;33m:\u001B[0m\u001B[1;33m\u001B[0m\u001B[1;33m\u001B[0m\u001B[0m\n\u001B[0;32m     17\u001B[0m                     \u001B[0mdo_return\u001B[0m \u001B[1;33m=\u001B[0m \u001B[1;32mFalse\u001B[0m\u001B[1;33m\u001B[0m\u001B[1;33m\u001B[0m\u001B[0m\n",
      "\u001B[1;31mValueError\u001B[0m: in user code:\n\n    File \"C:\\Users\\ANOMITRO\\anaconda3\\lib\\site-packages\\keras\\src\\engine\\training.py\", line 1338, in train_function  *\n        return step_function(self, iterator)\n    File \"C:\\Users\\ANOMITRO\\anaconda3\\lib\\site-packages\\keras\\src\\engine\\training.py\", line 1322, in step_function  **\n        outputs = model.distribute_strategy.run(run_step, args=(data,))\n    File \"C:\\Users\\ANOMITRO\\anaconda3\\lib\\site-packages\\keras\\src\\engine\\training.py\", line 1303, in run_step  **\n        outputs = model.train_step(data)\n    File \"C:\\Users\\ANOMITRO\\anaconda3\\lib\\site-packages\\keras\\src\\engine\\training.py\", line 1080, in train_step\n        y_pred = self(x, training=True)\n    File \"C:\\Users\\ANOMITRO\\anaconda3\\lib\\site-packages\\keras\\src\\utils\\traceback_utils.py\", line 70, in error_handler\n        raise e.with_traceback(filtered_tb) from None\n    File \"C:\\Users\\ANOMITRO\\anaconda3\\lib\\site-packages\\keras\\src\\engine\\input_spec.py\", line 253, in assert_input_compatibility\n        raise ValueError(\n\n    ValueError: Exception encountered when calling layer 'sequential' (type Sequential).\n    \n    Input 0 of layer \"conv2d\" is incompatible with the layer: expected min_ndim=4, found ndim=3. Full shape received: (None, 224, 224)\n    \n    Call arguments received by layer 'sequential' (type Sequential):\n      • inputs=tf.Tensor(shape=(None, 224, 224), dtype=float32)\n      • training=True\n      • mask=None\n"
     ]
    }
   ]
  },
  {
   "cell_type": "code",
   "source": [
    "model.evaluate(X_test_resized, y_test)"
   ],
   "metadata": {
    "execution": {
     "iopub.status.busy": "2023-09-24T09:41:48.592676Z",
     "iopub.status.idle": "2023-09-24T09:41:48.593059Z",
     "shell.execute_reply.started": "2023-09-24T09:41:48.592873Z",
     "shell.execute_reply": "2023-09-24T09:41:48.592891Z"
    },
    "trusted": true
   },
   "execution_count": null,
   "outputs": []
  }
 ]
}

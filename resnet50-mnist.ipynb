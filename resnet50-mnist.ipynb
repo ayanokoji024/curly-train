{
 "metadata": {
  "kernelspec": {
   "display_name": "Python 3",
   "language": "python",
   "name": "python3"
  },
  "language_info": {
   "name": "python",
   "version": "3.10.12",
   "mimetype": "text/x-python",
   "codemirror_mode": {
    "name": "ipython",
    "version": 3
   },
   "pygments_lexer": "ipython3",
   "nbconvert_exporter": "python",
   "file_extension": ".py"
  }
 },
 "nbformat_minor": 4,
 "nbformat": 4,
 "cells": [
  {
   "cell_type": "code",
   "source": [
    "from tensorflow.keras.applications import resnet50\n",
    "import pandas as pd\n",
    "import numpy as np\n",
    "import tensorflow as tf\n",
    "\n",
    "from keras.utils import to_categorical\n",
    "from keras.preprocessing import image\n",
    "import PIL.Image, PIL.ImageFont, PIL.ImageDraw\n"
   ],
   "metadata": {
    "execution": {
     "iopub.status.busy": "2023-09-22T17:51:14.159220Z",
     "iopub.execute_input": "2023-09-22T17:51:14.160369Z",
     "iopub.status.idle": "2023-09-22T17:51:14.166589Z",
     "shell.execute_reply.started": "2023-09-22T17:51:14.160327Z",
     "shell.execute_reply": "2023-09-22T17:51:14.165364Z"
    },
    "trusted": true
   },
   "execution_count": 18,
   "outputs": []
  },
  {
   "cell_type": "code",
   "source": [
    "BATCH_SIZE = 32\n",
    "classes = [str(i) for i in range(1,11,1)]"
   ],
   "metadata": {
    "collapsed": false,
    "jupyter": {
     "outputs_hidden": false
    },
    "execution": {
     "iopub.status.busy": "2023-09-22T17:51:14.168536Z",
     "iopub.execute_input": "2023-09-22T17:51:14.169094Z",
     "iopub.status.idle": "2023-09-22T17:51:14.182056Z",
     "shell.execute_reply.started": "2023-09-22T17:51:14.169061Z",
     "shell.execute_reply": "2023-09-22T17:51:14.180966Z"
    },
    "trusted": true
   },
   "execution_count": 19,
   "outputs": []
  },
  {
   "cell_type": "code",
   "source": [
    "(x_train, y_train), (x_val, y_val) = tf.keras.datasets.mnist.load_data()\n",
    "\n",
    "# expand new axis, channel axis\n",
    "x_train = np.expand_dims(x_train, axis=-1)\n",
    "\n",
    "# [optional]: we may need 3 channel (instead of 1)\n",
    "x_train = np.repeat(x_train, 3, axis=-1)\n",
    "\n",
    "# resize the input shape , i.e. old shape: 28, new shape: 32\n",
    "x_train = tf.image.resize(x_train, [32,32]) # if we want to resize\n",
    "\n",
    "print(x_train.shape, y_train.shape)\n",
    "\n",
    "x_val = np.expand_dims(x_val, axis=-1)\n",
    "\n",
    "# [optional]: we may need 3 channel (instead of 1)\n",
    "x_val = np.repeat(x_val, 3, axis=-1)\n",
    "\n",
    "# resize the input shape , i.e. old shape: 28, new shape: 32\n",
    "x_val = tf.image.resize(x_val, [32,32]) # if we want to resize\n",
    "\n",
    "# one hot\n",
    "# y_train = tf.keras.utils.to_categorical(y_train , num_classes=10)\n",
    "# y_val = tf.keras.utils.to_categorical(y_val , num_classes=10)\n",
    "\n",
    "print(x_val.shape, y_val.shape)"
   ],
   "metadata": {
    "collapsed": false,
    "jupyter": {
     "outputs_hidden": false
    },
    "execution": {
     "iopub.status.busy": "2023-09-22T17:51:14.183735Z",
     "iopub.execute_input": "2023-09-22T17:51:14.184271Z",
     "iopub.status.idle": "2023-09-22T17:51:16.482367Z",
     "shell.execute_reply.started": "2023-09-22T17:51:14.184240Z",
     "shell.execute_reply": "2023-09-22T17:51:16.481459Z"
    },
    "trusted": true
   },
   "execution_count": 20,
   "outputs": [
    {
     "name": "stdout",
     "text": "(60000, 32, 32, 3) (60000,)\n(10000, 32, 32, 3) (10000,)\n",
     "output_type": "stream"
    }
   ]
  },
  {
   "cell_type": "code",
   "source": [
    "def preprocess_image_input(input_images):\n",
    "  output_images = tf.keras.applications.resnet50.preprocess_input(input_images)\n",
    "  return output_images"
   ],
   "metadata": {
    "collapsed": false,
    "jupyter": {
     "outputs_hidden": false
    },
    "execution": {
     "iopub.status.busy": "2023-09-22T17:51:16.485159Z",
     "iopub.execute_input": "2023-09-22T17:51:16.485566Z",
     "iopub.status.idle": "2023-09-22T17:51:16.490148Z",
     "shell.execute_reply.started": "2023-09-22T17:51:16.485530Z",
     "shell.execute_reply": "2023-09-22T17:51:16.489224Z"
    },
    "trusted": true
   },
   "execution_count": 21,
   "outputs": []
  },
  {
   "cell_type": "code",
   "source": [
    "train_X = preprocess_image_input(x_train)\n",
    "valid_X = preprocess_image_input(x_val)"
   ],
   "metadata": {
    "collapsed": false,
    "jupyter": {
     "outputs_hidden": false
    },
    "execution": {
     "iopub.status.busy": "2023-09-22T17:51:16.491709Z",
     "iopub.execute_input": "2023-09-22T17:51:16.492392Z",
     "iopub.status.idle": "2023-09-22T17:51:17.293533Z",
     "shell.execute_reply.started": "2023-09-22T17:51:16.492359Z",
     "shell.execute_reply": "2023-09-22T17:51:17.292506Z"
    },
    "trusted": true
   },
   "execution_count": 22,
   "outputs": []
  },
  {
   "cell_type": "code",
   "source": [
    "def feature_extractor(inputs):\n",
    "\n",
    "  return tf.keras.applications.resnet.ResNet50(input_shape=(224, 224, 3),\n",
    "                                               include_top=False,\n",
    "                                               weights='imagenet')(inputs)"
   ],
   "metadata": {
    "collapsed": false,
    "jupyter": {
     "outputs_hidden": false
    },
    "execution": {
     "iopub.status.busy": "2023-09-22T17:51:17.294875Z",
     "iopub.execute_input": "2023-09-22T17:51:17.295223Z",
     "iopub.status.idle": "2023-09-22T17:51:17.301274Z",
     "shell.execute_reply.started": "2023-09-22T17:51:17.295192Z",
     "shell.execute_reply": "2023-09-22T17:51:17.300360Z"
    },
    "trusted": true
   },
   "execution_count": 23,
   "outputs": []
  },
  {
   "cell_type": "code",
   "source": [
    "def classifier(inputs):\n",
    "    x = tf.keras.layers.GlobalAveragePooling2D()(inputs)\n",
    "    x = tf.keras.layers.Flatten()(x)\n",
    "    x = tf.keras.layers.Dense(1024, activation=\"relu\")(x)\n",
    "    x = tf.keras.layers.Dense(512, activation=\"relu\")(x)\n",
    "    x = tf.keras.layers.Dense(10, activation=\"softmax\", name=\"classification\")(x)\n",
    "    return x"
   ],
   "metadata": {
    "collapsed": false,
    "jupyter": {
     "outputs_hidden": false
    },
    "execution": {
     "iopub.status.busy": "2023-09-22T17:51:17.302473Z",
     "iopub.execute_input": "2023-09-22T17:51:17.303364Z",
     "iopub.status.idle": "2023-09-22T17:51:17.316354Z",
     "shell.execute_reply.started": "2023-09-22T17:51:17.303330Z",
     "shell.execute_reply": "2023-09-22T17:51:17.315389Z"
    },
    "trusted": true
   },
   "execution_count": 24,
   "outputs": []
  },
  {
   "cell_type": "code",
   "source": [
    "def final_model(inputs):\n",
    "\n",
    "    resize = tf.keras.layers.UpSampling2D(size=(7,7))(inputs)\n",
    "\n",
    "    resnet_feature_extractor = feature_extractor(resize)\n",
    "    return classifier(resnet_feature_extractor)"
   ],
   "metadata": {
    "collapsed": false,
    "jupyter": {
     "outputs_hidden": false
    },
    "execution": {
     "iopub.status.busy": "2023-09-22T17:51:17.318126Z",
     "iopub.execute_input": "2023-09-22T17:51:17.318801Z",
     "iopub.status.idle": "2023-09-22T17:51:17.337232Z",
     "shell.execute_reply.started": "2023-09-22T17:51:17.318768Z",
     "shell.execute_reply": "2023-09-22T17:51:17.336308Z"
    },
    "trusted": true
   },
   "execution_count": 25,
   "outputs": []
  },
  {
   "cell_type": "code",
   "source": [
    "def define_compile_model():\n",
    "  inputs = tf.keras.layers.Input(shape=(32,32,3))\n",
    "\n",
    "  classification_output = final_model(inputs)\n",
    "  model = tf.keras.Model(inputs=inputs, outputs = classification_output)\n",
    "\n",
    "  model.compile(optimizer='SGD',\n",
    "                loss='sparse_categorical_crossentropy',\n",
    "                metrics = ['accuracy'])\n",
    "\n",
    "  return model\n",
    "\n",
    "\n",
    "model = define_compile_model()\n",
    "\n",
    "model.summary()"
   ],
   "metadata": {
    "collapsed": false,
    "jupyter": {
     "outputs_hidden": false
    },
    "execution": {
     "iopub.status.busy": "2023-09-22T17:51:17.338528Z",
     "iopub.execute_input": "2023-09-22T17:51:17.339064Z",
     "iopub.status.idle": "2023-09-22T17:51:19.536900Z",
     "shell.execute_reply.started": "2023-09-22T17:51:17.339030Z",
     "shell.execute_reply": "2023-09-22T17:51:19.535985Z"
    },
    "trusted": true
   },
   "execution_count": 26,
   "outputs": [
    {
     "name": "stdout",
     "text": "Model: \"model_1\"\n_________________________________________________________________\n Layer (type)                Output Shape              Param #   \n=================================================================\n input_3 (InputLayer)        [(None, 32, 32, 3)]       0         \n                                                                 \n up_sampling2d_1 (UpSampling  (None, 224, 224, 3)      0         \n 2D)                                                             \n                                                                 \n resnet50 (Functional)       (None, 7, 7, 2048)        23587712  \n                                                                 \n global_average_pooling2d_1   (None, 2048)             0         \n (GlobalAveragePooling2D)                                        \n                                                                 \n flatten_1 (Flatten)         (None, 2048)              0         \n                                                                 \n dense_2 (Dense)             (None, 1024)              2098176   \n                                                                 \n dense_3 (Dense)             (None, 512)               524800    \n                                                                 \n classification (Dense)      (None, 10)                5130      \n                                                                 \n=================================================================\nTotal params: 26,215,818\nTrainable params: 26,162,698\nNon-trainable params: 53,120\n_________________________________________________________________\n",
     "output_type": "stream"
    }
   ]
  },
  {
   "cell_type": "code",
   "source": [
    "EPOCHS = 3\n",
    "history = model.fit(train_X, training_labels, epochs=EPOCHS, validation_data = (valid_X, validation_labels), batch_size=64)"
   ],
   "metadata": {
    "collapsed": false,
    "pycharm": {
     "is_executing": true
    },
    "jupyter": {
     "outputs_hidden": false
    },
    "execution": {
     "iopub.status.busy": "2023-09-22T17:51:19.540319Z",
     "iopub.execute_input": "2023-09-22T17:51:19.540914Z",
     "iopub.status.idle": "2023-09-22T18:07:37.729629Z",
     "shell.execute_reply.started": "2023-09-22T17:51:19.540879Z",
     "shell.execute_reply": "2023-09-22T18:07:37.728647Z"
    },
    "trusted": true
   },
   "execution_count": 27,
   "outputs": [
    {
     "name": "stdout",
     "text": "Epoch 1/3\n938/938 [==============================] - 348s 342ms/step - loss: 0.1123 - accuracy: 0.9722 - val_loss: 0.1261 - val_accuracy: 0.9710\nEpoch 2/3\n938/938 [==============================] - 318s 339ms/step - loss: 0.0162 - accuracy: 0.9955 - val_loss: 0.0325 - val_accuracy: 0.9910\nEpoch 3/3\n938/938 [==============================] - 311s 332ms/step - loss: 0.0069 - accuracy: 0.9984 - val_loss: 0.0225 - val_accuracy: 0.9935\n",
     "output_type": "stream"
    }
   ]
  },
  {
   "cell_type": "code",
   "source": [
    "loss, accuracy = model.evaluate(valid_X, validation_labels, batch_size=64)"
   ],
   "metadata": {
    "collapsed": false,
    "pycharm": {
     "is_executing": true
    },
    "jupyter": {
     "outputs_hidden": false
    },
    "execution": {
     "iopub.status.busy": "2023-09-22T18:07:37.731333Z",
     "iopub.execute_input": "2023-09-22T18:07:37.731733Z",
     "iopub.status.idle": "2023-09-22T18:07:58.262004Z",
     "shell.execute_reply.started": "2023-09-22T18:07:37.731697Z",
     "shell.execute_reply": "2023-09-22T18:07:58.260936Z"
    },
    "trusted": true
   },
   "execution_count": 28,
   "outputs": [
    {
     "name": "stdout",
     "text": "157/157 [==============================] - 15s 94ms/step - loss: 0.0225 - accuracy: 0.9935\n",
     "output_type": "stream"
    }
   ]
  },
  {
   "cell_type": "code",
   "source": [
    "from matplotlib import pyplot as plt\n",
    "\n",
    "\n",
    "def plot_metrics(metric_name, title, ylim=5):\n",
    "  plt.title(title)\n",
    "  plt.ylim(0,ylim)\n",
    "  plt.plot(history.history[metric_name],color='blue',label=metric_name)\n",
    "  plt.plot(history.history['val_' + metric_name],color='green',label='val_' + metric_name)"
   ],
   "metadata": {
    "collapsed": false,
    "pycharm": {
     "is_executing": true
    },
    "jupyter": {
     "outputs_hidden": false
    },
    "execution": {
     "iopub.status.busy": "2023-09-22T18:07:58.263658Z",
     "iopub.execute_input": "2023-09-22T18:07:58.264035Z",
     "iopub.status.idle": "2023-09-22T18:07:58.270055Z",
     "shell.execute_reply.started": "2023-09-22T18:07:58.263996Z",
     "shell.execute_reply": "2023-09-22T18:07:58.269084Z"
    },
    "trusted": true
   },
   "execution_count": 29,
   "outputs": []
  },
  {
   "cell_type": "code",
   "source": [
    "plot_metrics(\"loss\", \"Loss\")"
   ],
   "metadata": {
    "collapsed": false,
    "pycharm": {
     "is_executing": true
    },
    "jupyter": {
     "outputs_hidden": false
    },
    "execution": {
     "iopub.status.busy": "2023-09-22T18:07:58.271661Z",
     "iopub.execute_input": "2023-09-22T18:07:58.272382Z",
     "iopub.status.idle": "2023-09-22T18:07:58.592381Z",
     "shell.execute_reply.started": "2023-09-22T18:07:58.272348Z",
     "shell.execute_reply": "2023-09-22T18:07:58.591382Z"
    },
    "trusted": true
   },
   "execution_count": 30,
   "outputs": [
    {
     "output_type": "display_data",
     "data": {
      "text/plain": "<Figure size 640x480 with 1 Axes>",
      "image/png": "[encoded data removed]"
     },
     "metadata": {}
    }
   ]
  },
  {
   "cell_type": "code",
   "source": [
    "plot_metrics(\"accuracy\", \"Accuracy\")"
   ],
   "metadata": {
    "collapsed": false,
    "pycharm": {
     "is_executing": true
    },
    "jupyter": {
     "outputs_hidden": false
    },
    "execution": {
     "iopub.status.busy": "2023-09-22T18:07:58.593698Z",
     "iopub.execute_input": "2023-09-22T18:07:58.594061Z",
     "iopub.status.idle": "2023-09-22T18:07:58.881846Z",
     "shell.execute_reply.started": "2023-09-22T18:07:58.594026Z",
     "shell.execute_reply": "2023-09-22T18:07:58.880877Z"
    },
    "trusted": true
   },
   "execution_count": 31,
   "outputs": [
    {
     "output_type": "display_data",
     "data": {
      "text/plain": "<Figure size 640x480 with 1 Axes>",
      "image/png": "[encoded data removed]"
     },
     "metadata": {}
    }
   ]
  },
  {
   "cell_type": "code",
   "source": [
    "import keras\n",
    "keras.layers.experimental"
   ],
   "metadata": {
    "collapsed": false,
    "jupyter": {
     "outputs_hidden": false
    }
   },
   "execution_count": null,
   "outputs": []
  },
  {
   "cell_type": "code",
   "execution_count": null,
   "outputs": [],
   "source": [],
   "metadata": {
    "collapsed": false
   }
  }
 ]
}

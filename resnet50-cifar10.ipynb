{
 "metadata": {
  "kernelspec": {
   "display_name": "Python 3",
   "language": "python",
   "name": "python3"
  },
  "language_info": {
   "name": "python",
   "version": "3.10.12",
   "mimetype": "text/x-python",
   "codemirror_mode": {
    "name": "ipython",
    "version": 3
   },
   "pygments_lexer": "ipython3",
   "nbconvert_exporter": "python",
   "file_extension": ".py"
  }
 },
 "nbformat_minor": 4,
 "nbformat": 4,
 "cells": [
  {
   "cell_type": "code",
   "source": [
    "from keras.applications import\n",
    "import pandas as pd\n",
    "import numpy as np\n",
    "import tensorflow as tf\n",
    "\n",
    "from keras.utils import to_categorical\n",
    "from keras.preprocessing import image\n",
    "import PIL.Image, PIL.ImageFont, PIL.ImageDraw\n"
   ],
   "metadata": {
    "execution": {
     "iopub.status.busy": "2023-09-22T18:15:49.961954Z",
     "iopub.execute_input": "2023-09-22T18:15:49.962412Z",
     "iopub.status.idle": "2023-09-22T18:15:49.983019Z",
     "shell.execute_reply.started": "2023-09-22T18:15:49.962380Z",
     "shell.execute_reply": "2023-09-22T18:15:49.982116Z"
    },
    "trusted": true
   },
   "execution_count": 2,
   "outputs": []
  },
  {
   "cell_type": "code",
   "source": [
    "BATCH_SIZE = 32\n",
    "classes = ['airplane', 'automobile', 'bird', 'cat', 'deer', 'dog', 'frog', 'horse', 'ship', 'truck']"
   ],
   "metadata": {
    "collapsed": false,
    "jupyter": {
     "outputs_hidden": false
    },
    "execution": {
     "iopub.status.busy": "2023-09-22T18:15:49.985317Z",
     "iopub.execute_input": "2023-09-22T18:15:49.985934Z",
     "iopub.status.idle": "2023-09-22T18:15:49.990653Z",
     "shell.execute_reply.started": "2023-09-22T18:15:49.985900Z",
     "shell.execute_reply": "2023-09-22T18:15:49.989710Z"
    },
    "trusted": true
   },
   "execution_count": 3,
   "outputs": []
  },
  {
   "cell_type": "code",
   "source": [
    "(training_images, training_labels) , (validation_images, validation_labels) = tf.keras.datasets.cifar10.load_data()"
   ],
   "metadata": {
    "collapsed": false,
    "jupyter": {
     "outputs_hidden": false
    },
    "execution": {
     "iopub.status.busy": "2023-09-22T18:15:49.992102Z",
     "iopub.execute_input": "2023-09-22T18:15:49.992729Z",
     "iopub.status.idle": "2023-09-22T18:15:58.215248Z",
     "shell.execute_reply.started": "2023-09-22T18:15:49.992698Z",
     "shell.execute_reply": "2023-09-22T18:15:58.214201Z"
    },
    "trusted": true
   },
   "execution_count": 4,
   "outputs": [
    {
     "name": "stdout",
     "text": "Downloading data from https://www.cs.toronto.edu/~kriz/cifar-10-python.tar.gz\n170498071/170498071 [==============================] - 5s 0us/step\n",
     "output_type": "stream"
    }
   ]
  },
  {
   "cell_type": "code",
   "source": [
    "def preprocess_image_input(input_images):\n",
    "  input_images = input_images.astype('float32')\n",
    "  output_images = tf.keras.applications.resnet50.preprocess_input(input_images)\n",
    "  return output_images"
   ],
   "metadata": {
    "collapsed": false,
    "jupyter": {
     "outputs_hidden": false
    },
    "execution": {
     "iopub.status.busy": "2023-09-22T18:15:58.216758Z",
     "iopub.execute_input": "2023-09-22T18:15:58.217389Z",
     "iopub.status.idle": "2023-09-22T18:15:58.223605Z",
     "shell.execute_reply.started": "2023-09-22T18:15:58.217355Z",
     "shell.execute_reply": "2023-09-22T18:15:58.222519Z"
    },
    "trusted": true
   },
   "execution_count": 5,
   "outputs": []
  },
  {
   "cell_type": "code",
   "source": [
    "train_X = preprocess_image_input(training_images)\n",
    "valid_X = preprocess_image_input(validation_images)"
   ],
   "metadata": {
    "collapsed": false,
    "jupyter": {
     "outputs_hidden": false
    },
    "execution": {
     "iopub.status.busy": "2023-09-22T18:15:58.229801Z",
     "iopub.execute_input": "2023-09-22T18:15:58.232200Z",
     "iopub.status.idle": "2023-09-22T18:15:58.640680Z",
     "shell.execute_reply.started": "2023-09-22T18:15:58.232167Z",
     "shell.execute_reply": "2023-09-22T18:15:58.639545Z"
    },
    "trusted": true
   },
   "execution_count": 6,
   "outputs": []
  },
  {
   "cell_type": "code",
   "source": [
    "def feature_extractor(inputs):\n",
    "\n",
    "  return tf.keras.applications.resnet.ResNet50(input_shape=(224, 224, 3),\n",
    "                                               include_top=False,\n",
    "                                               weights='imagenet')(inputs)"
   ],
   "metadata": {
    "collapsed": false,
    "jupyter": {
     "outputs_hidden": false
    },
    "execution": {
     "iopub.status.busy": "2023-09-22T18:15:58.645736Z",
     "iopub.execute_input": "2023-09-22T18:15:58.648079Z",
     "iopub.status.idle": "2023-09-22T18:15:58.655750Z",
     "shell.execute_reply.started": "2023-09-22T18:15:58.648044Z",
     "shell.execute_reply": "2023-09-22T18:15:58.654239Z"
    },
    "trusted": true
   },
   "execution_count": 7,
   "outputs": []
  },
  {
   "cell_type": "code",
   "source": [
    "def classifier(inputs):\n",
    "    x = tf.keras.layers.GlobalAveragePooling2D()(inputs)\n",
    "    x = tf.keras.layers.Flatten()(x)\n",
    "    x = tf.keras.layers.Dense(1024, activation=\"relu\")(x)\n",
    "    x = tf.keras.layers.Dense(512, activation=\"relu\")(x)\n",
    "    x = tf.keras.layers.Dense(10, activation=\"softmax\", name=\"classification\")(x)\n",
    "    return x"
   ],
   "metadata": {
    "collapsed": false,
    "jupyter": {
     "outputs_hidden": false
    },
    "execution": {
     "iopub.status.busy": "2023-09-22T18:15:58.660085Z",
     "iopub.execute_input": "2023-09-22T18:15:58.662448Z",
     "iopub.status.idle": "2023-09-22T18:15:58.671977Z",
     "shell.execute_reply.started": "2023-09-22T18:15:58.662412Z",
     "shell.execute_reply": "2023-09-22T18:15:58.670918Z"
    },
    "trusted": true
   },
   "execution_count": 8,
   "outputs": []
  },
  {
   "cell_type": "code",
   "source": [
    "def final_model(inputs):\n",
    "\n",
    "    resize = tf.keras.layers.UpSampling2D(size=(7,7))(inputs)\n",
    "\n",
    "    resnet_feature_extractor = feature_extractor(resize)\n",
    "    return classifier(resnet_feature_extractor)"
   ],
   "metadata": {
    "collapsed": false,
    "jupyter": {
     "outputs_hidden": false
    },
    "execution": {
     "iopub.status.busy": "2023-09-22T18:15:58.676237Z",
     "iopub.execute_input": "2023-09-22T18:15:58.679056Z",
     "iopub.status.idle": "2023-09-22T18:15:58.688495Z",
     "shell.execute_reply.started": "2023-09-22T18:15:58.679020Z",
     "shell.execute_reply": "2023-09-22T18:15:58.686995Z"
    },
    "trusted": true
   },
   "execution_count": 9,
   "outputs": []
  },
  {
   "cell_type": "code",
   "source": [
    "def define_compile_model():\n",
    "  inputs = tf.keras.layers.Input(shape=(32,32,3))\n",
    "\n",
    "  classification_output = final_model(inputs)\n",
    "  model = tf.keras.Model(inputs=inputs, outputs = classification_output)\n",
    "\n",
    "  model.compile(optimizer='SGD',\n",
    "                loss='sparse_categorical_crossentropy',\n",
    "                metrics = ['accuracy'])\n",
    "\n",
    "  return model\n",
    "\n",
    "\n",
    "model = define_compile_model()\n",
    "\n",
    "model.summary()"
   ],
   "metadata": {
    "collapsed": false,
    "jupyter": {
     "outputs_hidden": false
    },
    "execution": {
     "iopub.status.busy": "2023-09-22T18:15:58.693176Z",
     "iopub.execute_input": "2023-09-22T18:15:58.695076Z",
     "iopub.status.idle": "2023-09-22T18:16:04.741867Z",
     "shell.execute_reply.started": "2023-09-22T18:15:58.695042Z",
     "shell.execute_reply": "2023-09-22T18:16:04.740931Z"
    },
    "trusted": true
   },
   "execution_count": 10,
   "outputs": [
    {
     "name": "stdout",
     "text": "Downloading data from https://storage.googleapis.com/tensorflow/keras-applications/resnet/resnet50_weights_tf_dim_ordering_tf_kernels_notop.h5\n94765736/94765736 [==============================] - 0s 0us/step\nModel: \"model\"\n_________________________________________________________________\n Layer (type)                Output Shape              Param #   \n=================================================================\n input_1 (InputLayer)        [(None, 32, 32, 3)]       0         \n                                                                 \n up_sampling2d (UpSampling2D  (None, 224, 224, 3)      0         \n )                                                               \n                                                                 \n resnet50 (Functional)       (None, 7, 7, 2048)        23587712  \n                                                                 \n global_average_pooling2d (G  (None, 2048)             0         \n lobalAveragePooling2D)                                          \n                                                                 \n flatten (Flatten)           (None, 2048)              0         \n                                                                 \n dense (Dense)               (None, 1024)              2098176   \n                                                                 \n dense_1 (Dense)             (None, 512)               524800    \n                                                                 \n classification (Dense)      (None, 10)                5130      \n                                                                 \n=================================================================\nTotal params: 26,215,818\nTrainable params: 26,162,698\nNon-trainable params: 53,120\n_________________________________________________________________\n",
     "output_type": "stream"
    }
   ]
  },
  {
   "cell_type": "code",
   "source": [
    "EPOCHS = 3\n",
    "history = model.fit(train_X, training_labels, epochs=EPOCHS, validation_data = (valid_X, validation_labels), batch_size=64)"
   ],
   "metadata": {
    "collapsed": false,
    "jupyter": {
     "outputs_hidden": false
    },
    "execution": {
     "iopub.status.busy": "2023-09-22T18:16:04.743603Z",
     "iopub.execute_input": "2023-09-22T18:16:04.744340Z",
     "iopub.status.idle": "2023-09-22T18:30:38.918384Z",
     "shell.execute_reply.started": "2023-09-22T18:16:04.744305Z",
     "shell.execute_reply": "2023-09-22T18:30:38.917377Z"
    },
    "trusted": true
   },
   "execution_count": 11,
   "outputs": [
    {
     "name": "stdout",
     "text": "Epoch 1/3\n782/782 [==============================] - 296s 344ms/step - loss: 0.4073 - accuracy: 0.8655 - val_loss: 0.2264 - val_accuracy: 0.9213\nEpoch 2/3\n782/782 [==============================] - 266s 340ms/step - loss: 0.1069 - accuracy: 0.9647 - val_loss: 0.1544 - val_accuracy: 0.9474\nEpoch 3/3\n782/782 [==============================] - 266s 340ms/step - loss: 0.0363 - accuracy: 0.9899 - val_loss: 0.1626 - val_accuracy: 0.9483\n",
     "output_type": "stream"
    }
   ]
  },
  {
   "cell_type": "code",
   "source": [
    "loss, accuracy = model.evaluate(valid_X, validation_labels, batch_size=64)"
   ],
   "metadata": {
    "collapsed": false,
    "jupyter": {
     "outputs_hidden": false
    },
    "execution": {
     "iopub.status.busy": "2023-09-22T18:30:38.919992Z",
     "iopub.execute_input": "2023-09-22T18:30:38.920575Z",
     "iopub.status.idle": "2023-09-22T18:30:59.783535Z",
     "shell.execute_reply.started": "2023-09-22T18:30:38.920540Z",
     "shell.execute_reply": "2023-09-22T18:30:59.782519Z"
    },
    "trusted": true
   },
   "execution_count": 12,
   "outputs": [
    {
     "name": "stdout",
     "text": "157/157 [==============================] - 15s 93ms/step - loss: 0.1626 - accuracy: 0.9483\n",
     "output_type": "stream"
    }
   ]
  },
  {
   "cell_type": "code",
   "source": [
    "from matplotlib import pyplot as plt\n",
    "\n",
    "\n",
    "def plot_metrics(metric_name, title, ylim=1.0):\n",
    "  plt.title(title)\n",
    "  plt.ylim(0,ylim)\n",
    "  plt.plot(history.history[metric_name],color='blue',label=metric_name)\n",
    "  plt.plot(history.history['val_' + metric_name],color='green',label='val_' + metric_name)"
   ],
   "metadata": {
    "collapsed": false,
    "jupyter": {
     "outputs_hidden": false
    },
    "execution": {
     "iopub.status.busy": "2023-09-22T19:00:29.763200Z",
     "iopub.execute_input": "2023-09-22T19:00:29.763618Z",
     "iopub.status.idle": "2023-09-22T19:00:29.770514Z",
     "shell.execute_reply.started": "2023-09-22T19:00:29.763585Z",
     "shell.execute_reply": "2023-09-22T19:00:29.769423Z"
    },
    "trusted": true
   },
   "execution_count": 16,
   "outputs": []
  },
  {
   "cell_type": "code",
   "source": [
    "plot_metrics(\"loss\", \"Loss\")"
   ],
   "metadata": {
    "collapsed": false,
    "pycharm": {
     "is_executing": true
    },
    "jupyter": {
     "outputs_hidden": false
    },
    "execution": {
     "iopub.status.busy": "2023-09-22T19:00:35.122621Z",
     "iopub.execute_input": "2023-09-22T19:00:35.122975Z",
     "iopub.status.idle": "2023-09-22T19:00:35.464280Z",
     "shell.execute_reply.started": "2023-09-22T19:00:35.122949Z",
     "shell.execute_reply": "2023-09-22T19:00:35.463367Z"
    },
    "trusted": true
   },
   "execution_count": 17,
   "outputs": [
    {
     "output_type": "display_data",
     "data": {
      "text/plain": "<Figure size 640x480 with 1 Axes>",
      "image/png": "[encoded data removed]"
     },
     "metadata": {}
    }
   ]
  },
  {
   "cell_type": "code",
   "source": [
    "plot_metrics(\"accuracy\", \"Accuracy\")"
   ],
   "metadata": {
    "collapsed": false,
    "jupyter": {
     "outputs_hidden": false
    },
    "execution": {
     "iopub.status.busy": "2023-09-22T19:00:39.880624Z",
     "iopub.execute_input": "2023-09-22T19:00:39.880991Z",
     "iopub.status.idle": "2023-09-22T19:00:40.177203Z",
     "shell.execute_reply.started": "2023-09-22T19:00:39.880962Z",
     "shell.execute_reply": "2023-09-22T19:00:40.176313Z"
    },
    "trusted": true
   },
   "execution_count": 18,
   "outputs": [
    {
     "output_type": "display_data",
     "data": {
      "text/plain": "<Figure size 640x480 with 1 Axes>",
      "image/png": "[encoded data removed]"
     },
     "metadata": {}
    }
   ]
  }
 ]
}
